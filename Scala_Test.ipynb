{
 "cells": [
  {
   "cell_type": "code",
   "execution_count": 1,
   "metadata": {},
   "outputs": [
    {
     "name": "stdout",
     "output_type": "stream",
     "text": [
      "30\r\n"
     ]
    },
    {
     "data": {
      "text/plain": [
       "\u001b[36mn1\u001b[39m: \u001b[32mInt\u001b[39m = \u001b[32m10\u001b[39m\r\n",
       "\u001b[36mn2\u001b[39m: \u001b[32mInt\u001b[39m = \u001b[32m20\u001b[39m\r\n",
       "\u001b[36mn3\u001b[39m: \u001b[32mInt\u001b[39m = \u001b[32m30\u001b[39m"
      ]
     },
     "execution_count": 1,
     "metadata": {},
     "output_type": "execute_result"
    }
   ],
   "source": [
    "var n1:Int=10\n",
    "var n2:Int=20\n",
    "var n3:Int = n1 + n2\n",
    "println(n3)"
   ]
  },
  {
   "cell_type": "code",
   "execution_count": 2,
   "metadata": {},
   "outputs": [
    {
     "name": "stdout",
     "output_type": "stream",
     "text": [
      "Hello,world!\n"
     ]
    },
    {
     "data": {
      "text/plain": [
       "\u001b[36mgreetingStrings\u001b[39m: \u001b[32mArray\u001b[39m[\u001b[32mString\u001b[39m] = \u001b[33mArray\u001b[39m(\n",
       "  \u001b[32m\"Hello\"\u001b[39m,\n",
       "  \u001b[32m\",\"\u001b[39m,\n",
       "  \u001b[32m\"\"\"\n",
       "world!  \n",
       "\n",
       "  \"\"\"\u001b[39m\n",
       ")"
      ]
     },
     "execution_count": 2,
     "metadata": {},
     "output_type": "execute_result"
    }
   ],
   "source": [
    "val greetingStrings = new Array[String](3)\n",
    "greetingStrings(0) = \"Hello\"\n",
    "greetingStrings(1) = \",\"\n",
    "greetingStrings(2) = \"world!\\n\"\n",
    "\n",
    "for(i <- 0 to 2)\n",
    "    print(greetingStrings(i))"
   ]
  },
  {
   "cell_type": "code",
   "execution_count": 3,
   "metadata": {},
   "outputs": [
    {
     "name": "stdout",
     "output_type": "stream",
     "text": [
      "Hello\n",
      "\n",
      "Hello\n",
      ",\n",
      "world!\n",
      "\n"
     ]
    }
   ],
   "source": [
    "println(greetingStrings(0))\n",
    "println()\n",
    "greetingStrings.foreach(println)"
   ]
  },
  {
   "cell_type": "code",
   "execution_count": 4,
   "metadata": {},
   "outputs": [
    {
     "name": "stdout",
     "output_type": "stream",
     "text": [
      "Hello\n",
      ",\n",
      "world!\n",
      "\n"
     ]
    },
    {
     "data": {
      "text/plain": [
       "\u001b[36mgreetingStrings_list\u001b[39m: \u001b[32mList\u001b[39m[\u001b[32mString\u001b[39m] = \u001b[33mList\u001b[39m(\n",
       "  \u001b[32m\"Hello\"\u001b[39m,\n",
       "  \u001b[32m\",\"\u001b[39m,\n",
       "  \u001b[32m\"\"\"\n",
       "world!  \n",
       "\n",
       "  \"\"\"\u001b[39m\n",
       ")"
      ]
     },
     "execution_count": 4,
     "metadata": {},
     "output_type": "execute_result"
    }
   ],
   "source": [
    "val greetingStrings_list = greetingStrings(0)::greetingStrings(1)::greetingStrings(2)::Nil\n",
    "greetingStrings_list.foreach(println)"
   ]
  },
  {
   "cell_type": "code",
   "execution_count": 5,
   "metadata": {},
   "outputs": [
    {
     "name": "stdout",
     "output_type": "stream",
     "text": [
      "Hello\n",
      ",\n",
      "world!\n",
      "\n"
     ]
    }
   ],
   "source": [
    "for(i <- 0 to greetingStrings_list.length-1) \n",
    "    println(greetingStrings_list(i))"
   ]
  },
  {
   "cell_type": "code",
   "execution_count": 6,
   "metadata": {},
   "outputs": [
    {
     "name": "stdout",
     "output_type": "stream",
     "text": [
      "Hello\r\n",
      ",\r\n",
      "world!\n",
      "\r\n"
     ]
    }
   ],
   "source": [
    "for(arg <- greetingStrings_list)\n",
    "    println(arg)"
   ]
  },
  {
   "cell_type": "code",
   "execution_count": 7,
   "metadata": {},
   "outputs": [
    {
     "name": "stdout",
     "output_type": "stream",
     "text": [
      "Hello\r\n",
      ",\r\n",
      "world!\n",
      "\r\n"
     ]
    }
   ],
   "source": [
    "for(arg <- greetingStrings)\n",
    "    println(arg)"
   ]
  },
  {
   "cell_type": "raw",
   "metadata": {},
   "source": [
    "Q: Input age, if less than 18 then ouput teen, if between 18 and 45 then adult, if greater than 45 then elder\n"
   ]
  },
  {
   "cell_type": "code",
   "execution_count": 8,
   "metadata": {},
   "outputs": [
    {
     "name": "stdout",
     "output_type": "stream",
     "text": [
      "Please enter your age:\n",
      "adult\n"
     ]
    },
    {
     "data": {
      "text/plain": [
       "\u001b[36mage\u001b[39m: \u001b[32mInt\u001b[39m = \u001b[32m20\u001b[39m"
      ]
     },
     "execution_count": 8,
     "metadata": {},
     "output_type": "execute_result"
    }
   ],
   "source": [
    "println(\"Please enter your age:\")\n",
    "val age:Int = 20\n",
    "\n",
    "if(age <= 18) \n",
    "    println(\"teen\")\n",
    "else if (age > 18 && age <= 45 )\n",
    "    println(\"adult\")\n",
    "else if(age > 45)\n",
    "    println(\"elder\")"
   ]
  },
  {
   "cell_type": "code",
   "execution_count": 9,
   "metadata": {},
   "outputs": [
    {
     "name": "stdout",
     "output_type": "stream",
     "text": [
      "2500\n",
      "2500\n"
     ]
    },
    {
     "data": {
      "text/plain": [
       "\u001b[36msum_1\u001b[39m: \u001b[32mInt\u001b[39m = \u001b[32m2500\u001b[39m\r\n",
       "\u001b[36msum_2\u001b[39m: \u001b[32mInt\u001b[39m = \u001b[32m2500\u001b[39m"
      ]
     },
     "execution_count": 9,
     "metadata": {},
     "output_type": "execute_result"
    }
   ],
   "source": [
    "var sum_1:Int = 0\n",
    "var sum_2:Int = 0\n",
    "for(i <- 1 to 100 if (i%2) !=0)\n",
    "    sum_1 = sum_1 + i\n",
    "for(i <- 1 to 100 by 2)\n",
    "    sum_2 += i\n",
    "println(sum_1)\n",
    "println(sum_2)"
   ]
  },
  {
   "cell_type": "code",
   "execution_count": 10,
   "metadata": {},
   "outputs": [
    {
     "name": "stdout",
     "output_type": "stream",
     "text": [
      "1*1=1 \n",
      "1*2=2 2*2=4 \n",
      "1*3=3 2*3=6 3*3=9 \n",
      "1*4=4 2*4=8 3*4=12 4*4=16 \n",
      "1*5=5 2*5=10 3*5=15 4*5=20 5*5=25 \n",
      "1*6=6 2*6=12 3*6=18 4*6=24 5*6=30 6*6=36 \n",
      "1*7=7 2*7=14 3*7=21 4*7=28 5*7=35 6*7=42 7*7=49 \n",
      "1*8=8 2*8=16 3*8=24 4*8=32 5*8=40 6*8=48 7*8=56 8*8=64 \n",
      "1*9=9 2*9=18 3*9=27 4*9=36 5*9=45 6*9=54 7*9=63 8*9=72 9*9=81 \n"
     ]
    }
   ],
   "source": [
    "for (i <-1 to 9){\n",
    "    for(j <- 1 to i) {\n",
    "         print(j + \"*\" + i + \"=\" + i * j +\" \") \n",
    "    }\n",
    "    println\n",
    "}\n",
    "    "
   ]
  },
  {
   "cell_type": "code",
   "execution_count": 11,
   "metadata": {},
   "outputs": [
    {
     "name": "stdout",
     "output_type": "stream",
     "text": [
      "        *\n",
      "       ***\n",
      "      *****\n",
      "     *******\n",
      "    *********\n",
      "   ***********\n",
      "  *************\n",
      " ***************\n",
      "*****************\n"
     ]
    }
   ],
   "source": [
    "for (i <-1 to 9)  {\n",
    "    \n",
    "    println(\" \" * (9-i) + \"*\" * (2*i-1))\n",
    "}"
   ]
  },
  {
   "cell_type": "raw",
   "metadata": {},
   "source": [
    "Note:This cannot actually break the for loop"
   ]
  },
  {
   "cell_type": "code",
   "execution_count": 12,
   "metadata": {},
   "outputs": [
    {
     "name": "stdout",
     "output_type": "stream",
     "text": [
      "1\n",
      "2\n",
      "3\n",
      "4\n",
      "5\n",
      "123\n"
     ]
    },
    {
     "data": {
      "text/plain": [
       "\u001b[36mflag\u001b[39m: \u001b[32mBoolean\u001b[39m = \u001b[32mfalse\u001b[39m"
      ]
     },
     "execution_count": 12,
     "metadata": {},
     "output_type": "execute_result"
    }
   ],
   "source": [
    "var flag = true\n",
    "for(i<-1 to 10 if flag ){\n",
    "    if (i == 5 ){\n",
    "        flag = false\n",
    "    }\n",
    "    println(i)\n",
    "}\n",
    "\n",
    "println(\"123\")"
   ]
  },
  {
   "cell_type": "raw",
   "metadata": {},
   "source": [
    "Note:This can actually breaks the for loop"
   ]
  },
  {
   "cell_type": "code",
   "execution_count": 13,
   "metadata": {},
   "outputs": [
    {
     "name": "stdout",
     "output_type": "stream",
     "text": [
      "1\n",
      "2\n",
      "3\n",
      "4\n",
      "5\n",
      "123\n"
     ]
    }
   ],
   "source": [
    "try {\n",
    "    for (elem <- 1 to 10) {\n",
    "        println(elem)\n",
    "        if (elem == 5) throw new RuntimeException\n",
    "    }\n",
    "} catch {\n",
    "    case e =>\n",
    "}\n",
    "println(\"123\")\n"
   ]
  },
  {
   "cell_type": "raw",
   "metadata": {},
   "source": [
    "Note:This can actually breaks the for loop"
   ]
  },
  {
   "cell_type": "code",
   "execution_count": 14,
   "metadata": {},
   "outputs": [
    {
     "name": "stdout",
     "output_type": "stream",
     "text": [
      "1\n",
      "2\n",
      "3\n",
      "4\n",
      "5\n",
      "123\n"
     ]
    },
    {
     "data": {
      "text/plain": [
       "\u001b[32mimport \u001b[39m\u001b[36mscala.util.control.Breaks._\r\n",
       "\r\n",
       "\u001b[39m"
      ]
     },
     "execution_count": 14,
     "metadata": {},
     "output_type": "execute_result"
    }
   ],
   "source": [
    "import scala.util.control.Breaks._\n",
    "\n",
    "breakable(\n",
    "    for (elem <- 1 to 10) {\n",
    "        println(elem)\n",
    "        if (elem == 5) break()\n",
    "    }\n",
    ")\n",
    "\n",
    "println(\"123\")\n"
   ]
  },
  {
   "cell_type": "code",
   "execution_count": 15,
   "metadata": {},
   "outputs": [
    {
     "data": {
      "text/plain": [
       "\u001b[32mimport \u001b[39m\u001b[36mscala.collection.mutable\r\n",
       "\u001b[39m\r\n",
       "defined \u001b[32mclass\u001b[39m \u001b[36mChecksumAccumulator\u001b[39m\r\n",
       "defined \u001b[32mobject\u001b[39m \u001b[36mChecksumAccumulator\u001b[39m"
      ]
     },
     "execution_count": 15,
     "metadata": {},
     "output_type": "execute_result"
    }
   ],
   "source": [
    "import scala.collection.mutable\n",
    "class ChecksumAccumulator {\n",
    "    private var sum = 0\n",
    "    def add(b:Byte) = sum += b \n",
    "    def checksum() = ~(sum & 0xFF) + 1\n",
    "}\n",
    "\n",
    "object ChecksumAccumulator {\n",
    "    private val cache = mutable.Map.empty[String, Int]\n",
    "    def calculate(s : String): Int = \n",
    "        if(cache.contains(s))\n",
    "            cache(s)\n",
    "        else {\n",
    "            val acc = new ChecksumAccumulator \n",
    "            for(c <- s) \n",
    "                acc.add(c.toByte) \n",
    "            val cs = acc.checksum()\n",
    "            cache +=(s -> cs)\n",
    "            cs\n",
    "        }\n",
    "}"
   ]
  },
  {
   "cell_type": "code",
   "execution_count": 16,
   "metadata": {},
   "outputs": [
    {
     "data": {
      "text/plain": [
       "\u001b[36maByte\u001b[39m: \u001b[32mByte\u001b[39m = \u001b[32m10\u001b[39m"
      ]
     },
     "execution_count": 16,
     "metadata": {},
     "output_type": "execute_result"
    }
   ],
   "source": [
    "val aByte:Byte = 10"
   ]
  },
  {
   "cell_type": "code",
   "execution_count": 17,
   "metadata": {},
   "outputs": [
    {
     "name": "stdout",
     "output_type": "stream",
     "text": [
      "My name is Jesse\n"
     ]
    },
    {
     "data": {
      "text/plain": [
       "\u001b[36mname\u001b[39m: \u001b[32mString\u001b[39m = \u001b[32m\"Jesse\"\u001b[39m"
      ]
     },
     "execution_count": 17,
     "metadata": {},
     "output_type": "execute_result"
    }
   ],
   "source": [
    "var name:String = \"Jesse\"\n",
    "println(raw\"My name is ${name}\")"
   ]
  },
  {
   "cell_type": "code",
   "execution_count": 18,
   "metadata": {},
   "outputs": [
    {
     "name": "stdout",
     "output_type": "stream",
     "text": [
      "-5\n"
     ]
    }
   ],
   "source": [
    "println(5.unary_-)"
   ]
  },
  {
   "cell_type": "code",
   "execution_count": 19,
   "metadata": {},
   "outputs": [
    {
     "data": {
      "text/plain": [
       "\u001b[36mname\u001b[39m: \u001b[32mString\u001b[39m = \u001b[32m\"Jesse\"\u001b[39m\r\n",
       "\u001b[36mres18_1\u001b[39m: \u001b[32mString\u001b[39m = \u001b[32m\"JESSE\"\u001b[39m"
      ]
     },
     "execution_count": 19,
     "metadata": {},
     "output_type": "execute_result"
    }
   ],
   "source": [
    "var name:String = \"Jesse\"\n",
    "name toUpperCase"
   ]
  },
  {
   "cell_type": "code",
   "execution_count": 20,
   "metadata": {},
   "outputs": [
    {
     "name": "stdout",
     "output_type": "stream",
     "text": [
      "3\n",
      "-1\n"
     ]
    }
   ],
   "source": [
    "println(11%4)\n",
    "println((math.IEEEremainder(11,4)) toInt)"
   ]
  },
  {
   "cell_type": "code",
   "execution_count": 21,
   "metadata": {},
   "outputs": [
    {
     "data": {
      "text/plain": [
       "\u001b[36mres20_0\u001b[39m: \u001b[32mBoolean\u001b[39m = \u001b[32mtrue\u001b[39m\r\n",
       "\u001b[36mres20_1\u001b[39m: \u001b[32mBoolean\u001b[39m = \u001b[32mtrue\u001b[39m\r\n",
       "\u001b[36mres20_2\u001b[39m: \u001b[32mBoolean\u001b[39m = \u001b[32mfalse\u001b[39m"
      ]
     },
     "execution_count": 21,
     "metadata": {},
     "output_type": "execute_result"
    }
   ],
   "source": [
    "'a' > 'A'\n",
    "('a' toInt) >= ('A' toInt)\n",
    "!('a' >= 'A')"
   ]
  },
  {
   "cell_type": "code",
   "execution_count": 22,
   "metadata": {},
   "outputs": [
    {
     "data": {
      "text/plain": [
       "\u001b[36mres21\u001b[39m: \u001b[32mBoolean\u001b[39m = \u001b[32mtrue\u001b[39m"
      ]
     },
     "execution_count": 22,
     "metadata": {},
     "output_type": "execute_result"
    }
   ],
   "source": [
    "null == null"
   ]
  },
  {
   "cell_type": "code",
   "execution_count": 23,
   "metadata": {
    "scrolled": true
   },
   "outputs": [
    {
     "name": "stdout",
     "output_type": "stream",
     "text": [
      "1/2\r\n"
     ]
    },
    {
     "data": {
      "text/plain": [
       "defined \u001b[32mclass\u001b[39m \u001b[36mRational\u001b[39m\r\n",
       "\u001b[36mr1\u001b[39m: \u001b[32mRational\u001b[39m = 1/2"
      ]
     },
     "execution_count": 23,
     "metadata": {},
     "output_type": "execute_result"
    }
   ],
   "source": [
    "class Rational(n:Int, d:Int) {\n",
    "    require(d != 0)\n",
    "       override def toString():String = {\n",
    "        n + \"/\" +d\n",
    "    }\n",
    "}  \n",
    "val r1 = new Rational(1,2)\n",
    "println(r1)"
   ]
  },
  {
   "cell_type": "raw",
   "metadata": {},
   "source": [
    "Q: search through an argument list for a string that ends with \".scala\" but does not start with a \"-\""
   ]
  },
  {
   "cell_type": "code",
   "execution_count": 23,
   "metadata": {},
   "outputs": [],
   "source": [
    "/*\n",
    "Typical Java method\n",
    "\n",
    "int i = 0;\n",
    "boolean  foundIt = false\n",
    "while(i < args.length) {\n",
    "    if(args[i].startsWith(\"-\")) {\n",
    "        i = i +1；\n",
    "        continue;\n",
    "    }\n",
    "    if(args[i].endsWith(\".scala\")) {\n",
    "        foundIt = true;\n",
    "        break;\n",
    "    }\n",
    "    i = i +1;\n",
    "}\n",
    "*/\n",
    "\n",
    "/*\n",
    " A method in Scala\n",
    " \n",
    "var i: Int = 0\n",
    "var foundIt: Boolean = false\n",
    "while(i < args.length && !foundIt) {\n",
    "    if(!args(i).startsWith(\"-\")) {\n",
    "        if(args(i).endsWith(\".scala\")) {\n",
    "            foundIt = false!=\n",
    "        }\n",
    "    }\n",
    "    i = i +1;\n",
    "}\n",
    "*/\n",
    "\n",
    "/* A functional programming method in Scala\n",
    "\n",
    "def searchFrom(i:Int): Int = \n",
    "if(i >= args.length) -1\n",
    "else if (args(i).startsWith(\"-\")) searchFrom(i+1)\n",
    "else if(args(i).endsWith(\".scala\")) i\n",
    "else searchFrom(i+1)\n",
    "\n",
    "val i = searchFrom(0)\n",
    "\n",
    "*/\n"
   ]
  },
  {
   "cell_type": "code",
   "execution_count": 24,
   "metadata": {},
   "outputs": [
    {
     "name": "stdout",
     "output_type": "stream",
     "text": [
      "*\n",
      "**\n",
      "***\n",
      "****\n",
      "*****\n",
      "******\n",
      "*******\n",
      "********\n",
      "*********\n"
     ]
    }
   ],
   "source": [
    "(1 to 9).map(\"*\" * _).foreach(println _)"
   ]
  },
  {
   "cell_type": "code",
   "execution_count": 25,
   "metadata": {},
   "outputs": [
    {
     "name": "stdout",
     "output_type": "stream",
     "text": [
      "**\n",
      "****\n",
      "******\n",
      "********\n"
     ]
    }
   ],
   "source": [
    "(1 to 9).filter(_ % 2 == 0).map(\"*\" * _).foreach(println _)"
   ]
  },
  {
   "cell_type": "code",
   "execution_count": 26,
   "metadata": {},
   "outputs": [
    {
     "data": {
      "text/plain": [
       "defined \u001b[32mfunction\u001b[39m \u001b[36moldSum\u001b[39m\r\n",
       "\u001b[36mres25_1\u001b[39m: \u001b[32mInt\u001b[39m = \u001b[32m3\u001b[39m"
      ]
     },
     "execution_count": 26,
     "metadata": {},
     "output_type": "execute_result"
    }
   ],
   "source": [
    "def oldSum(x: Int, y: Int) = x + y\n",
    "oldSum(1,2)"
   ]
  },
  {
   "cell_type": "code",
   "execution_count": 27,
   "metadata": {},
   "outputs": [
    {
     "data": {
      "text/plain": [
       "defined \u001b[32mfunction\u001b[39m \u001b[36mfirst\u001b[39m\r\n",
       "\u001b[36mfirstFun\u001b[39m: \u001b[32mInt\u001b[39m => \u001b[32mInt\u001b[39m = <function1>\r\n",
       "\u001b[36mres26_2\u001b[39m: \u001b[32mInt\u001b[39m = \u001b[32m3\u001b[39m"
      ]
     },
     "execution_count": 27,
     "metadata": {},
     "output_type": "execute_result"
    }
   ],
   "source": [
    "def first(x: Int):(Int) => Int = {\n",
    "    (y:Int) => x + y\n",
    "}\n",
    "val firstFun = first(1)\n",
    "firstFun(2)"
   ]
  },
  {
   "cell_type": "code",
   "execution_count": 28,
   "metadata": {},
   "outputs": [
    {
     "name": "stdout",
     "output_type": "stream",
     "text": [
      "1 1 2 3 5 8 13 21 34 "
     ]
    },
    {
     "data": {
      "text/plain": [
       "defined \u001b[32mfunction\u001b[39m \u001b[36mfibonacci\u001b[39m"
      ]
     },
     "execution_count": 28,
     "metadata": {},
     "output_type": "execute_result"
    }
   ],
   "source": [
    "def fibonacci(n: Int): Int = {\n",
    "    if(n == 1) 1\n",
    "    else if(n == 2) 1\n",
    "    else fibonacci(n-1) + fibonacci(n-2)\n",
    "}\n",
    "\n",
    "(1 to 9).map(fibonacci).foreach( x => print(x + \" \"))\n"
   ]
  },
  {
   "cell_type": "code",
   "execution_count": 29,
   "metadata": {},
   "outputs": [
    {
     "name": "stdout",
     "output_type": "stream",
     "text": [
      "3 7 15 31 63 127 255 511 1023 "
     ]
    },
    {
     "data": {
      "text/plain": [
       "defined \u001b[32mfunction\u001b[39m \u001b[36mcalc\u001b[39m"
      ]
     },
     "execution_count": 29,
     "metadata": {},
     "output_type": "execute_result"
    }
   ],
   "source": [
    "def calc(n: Int):Int = {\n",
    "    if(n == 1) 3\n",
    "    else 2 * calc(n - 1) + 1\n",
    "}\n",
    "(1 to 9).map(calc).foreach(x => print(x +\" \"))"
   ]
  },
  {
   "cell_type": "code",
   "execution_count": 30,
   "metadata": {},
   "outputs": [
    {
     "name": "stdout",
     "output_type": "stream",
     "text": [
      "1534\r\n"
     ]
    },
    {
     "data": {
      "text/plain": [
       "defined \u001b[32mfunction\u001b[39m \u001b[36mpeach\u001b[39m"
      ]
     },
     "execution_count": 30,
     "metadata": {},
     "output_type": "execute_result"
    }
   ],
   "source": [
    "def peach(n:Int):Int = {\n",
    "    if(n == 10) 1 \n",
    "    else  2 * peach(n + 1) + 2\n",
    "}\n",
    "println(peach(1))"
   ]
  },
  {
   "cell_type": "code",
   "execution_count": 31,
   "metadata": {},
   "outputs": [
    {
     "data": {
      "text/plain": [
       "defined \u001b[32mclass\u001b[39m \u001b[36mIntQueue\u001b[39m\r\n",
       "\u001b[32mimport \u001b[39m\u001b[36mscala.collection.mutable.ArrayBuffer \r\n",
       "\r\n",
       "\u001b[39m\r\n",
       "defined \u001b[32mclass\u001b[39m \u001b[36mBasicIntQueue\u001b[39m\r\n",
       "defined \u001b[32mtrait\u001b[39m \u001b[36mDoubling\u001b[39m\r\n",
       "\u001b[36mqueue\u001b[39m: \u001b[32mBasicIntQueue\u001b[39m with \u001b[32mDoubling\u001b[39m = $sess.cmd30Wrapper$Helper$$anon$1@24865602\r\n",
       "\u001b[36mres30_6\u001b[39m: \u001b[32mInt\u001b[39m = \u001b[32m20\u001b[39m"
      ]
     },
     "execution_count": 31,
     "metadata": {},
     "output_type": "execute_result"
    }
   ],
   "source": [
    "abstract class IntQueue {\n",
    "    def get(): Int\n",
    "    def put(x: Int)\n",
    "}\n",
    "\n",
    "import scala.collection.mutable.ArrayBuffer \n",
    "\n",
    "class BasicIntQueue extends IntQueue {\n",
    "    private val buf = new ArrayBuffer[Int]\n",
    "    def get() = buf.remove(0)\n",
    "    def put(x: Int) = {buf += x}\n",
    "}\n",
    "\n",
    "trait Doubling extends IntQueue {\n",
    "    abstract override def put(x: Int) = {super.put(2 * x)}\n",
    "}\n",
    "\n",
    "val queue = new BasicIntQueue with Doubling\n",
    "queue.put(10)\n",
    "queue.get()"
   ]
  },
  {
   "cell_type": "code",
   "execution_count": 32,
   "metadata": {},
   "outputs": [
    {
     "data": {
      "text/plain": [
       "\u001b[36mlist\u001b[39m: \u001b[32mList\u001b[39m[\u001b[32mNothing\u001b[39m] = \u001b[33mList\u001b[39m()"
      ]
     },
     "execution_count": 32,
     "metadata": {},
     "output_type": "execute_result"
    }
   ],
   "source": [
    "val list = List()\n",
    "//println(list.head)     java.util.NoSuchElementException\n",
    "//println(list.tail)     java.lang.UnsupportedOperationException\n",
    "//println(list.last)     java.util.NoSuchElementException\n",
    "//println(list.init)     java.lang.UnsupportedOperationException"
   ]
  },
  {
   "cell_type": "code",
   "execution_count": 33,
   "metadata": {},
   "outputs": [
    {
     "data": {
      "text/plain": [
       "\u001b[36mres32\u001b[39m: \u001b[32mList\u001b[39m[\u001b[32mAny\u001b[39m] = \u001b[33mList\u001b[39m(List(0, 1), 2, 3, 4, 4)"
      ]
     },
     "execution_count": 33,
     "metadata": {},
     "output_type": "execute_result"
    }
   ],
   "source": [
    "List(List(List(0,1),2),List(3,4),List(4)).flatten"
   ]
  },
  {
   "cell_type": "code",
   "execution_count": 34,
   "metadata": {},
   "outputs": [
    {
     "name": "stdout",
     "output_type": "stream",
     "text": [
      "List((a,0), (b,1), (c,2), (d,3), (e,4))\n",
      "List((a,0), (b,1), (c,2), (d,3), (e,4))\n"
     ]
    },
    {
     "data": {
      "text/plain": [
       "\u001b[36mlist\u001b[39m: \u001b[32mList\u001b[39m[\u001b[32mString\u001b[39m] = \u001b[33mList\u001b[39m(\u001b[32m\"a\"\u001b[39m, \u001b[32m\"b\"\u001b[39m, \u001b[32m\"c\"\u001b[39m, \u001b[32m\"d\"\u001b[39m, \u001b[32m\"e\"\u001b[39m)"
      ]
     },
     "execution_count": 34,
     "metadata": {},
     "output_type": "execute_result"
    }
   ],
   "source": [
    "val list = List(\"a\",\"b\",\"c\",\"d\",\"e\")\n",
    "println(list.zipWithIndex)\n",
    "println(list.zip(list.indices))"
   ]
  },
  {
   "cell_type": "code",
   "execution_count": 35,
   "metadata": {},
   "outputs": [
    {
     "data": {
      "text/plain": [
       "\u001b[36mlist\u001b[39m: \u001b[32mList\u001b[39m[\u001b[32mString\u001b[39m] = \u001b[33mList\u001b[39m(\u001b[32m\"a\"\u001b[39m, \u001b[32m\"b\"\u001b[39m, \u001b[32m\"c\"\u001b[39m, \u001b[32m\"d\"\u001b[39m, \u001b[32m\"e\"\u001b[39m)\r\n",
       "\u001b[36mentries\u001b[39m: \u001b[32mList\u001b[39m[(\u001b[32mString\u001b[39m, \u001b[32mInt\u001b[39m)] = \u001b[33mList\u001b[39m((\u001b[32m\"a\"\u001b[39m, \u001b[32m0\u001b[39m), (\u001b[32m\"b\"\u001b[39m, \u001b[32m1\u001b[39m), (\u001b[32m\"c\"\u001b[39m, \u001b[32m2\u001b[39m), (\u001b[32m\"d\"\u001b[39m, \u001b[32m3\u001b[39m), (\u001b[32m\"e\"\u001b[39m, \u001b[32m4\u001b[39m))\r\n",
       "\u001b[36mres34_2\u001b[39m: \u001b[32mList\u001b[39m[(\u001b[32mInt\u001b[39m, \u001b[32mString\u001b[39m)] = \u001b[33mList\u001b[39m((\u001b[32m0\u001b[39m, \u001b[32m\"a\"\u001b[39m), (\u001b[32m1\u001b[39m, \u001b[32m\"b\"\u001b[39m), (\u001b[32m2\u001b[39m, \u001b[32m\"c\"\u001b[39m), (\u001b[32m3\u001b[39m, \u001b[32m\"d\"\u001b[39m), (\u001b[32m4\u001b[39m, \u001b[32m\"e\"\u001b[39m))"
      ]
     },
     "execution_count": 35,
     "metadata": {},
     "output_type": "execute_result"
    }
   ],
   "source": [
    "val list = List(\"a\",\"b\",\"c\",\"d\",\"e\")\n",
    "val entries = list.zipWithIndex\n",
    "entries.map(_.swap)"
   ]
  },
  {
   "cell_type": "code",
   "execution_count": 36,
   "metadata": {},
   "outputs": [
    {
     "data": {
      "text/plain": [
       "\u001b[36mlist\u001b[39m: \u001b[32mList\u001b[39m[\u001b[32mString\u001b[39m] = \u001b[33mList\u001b[39m(\u001b[32m\"a\"\u001b[39m, \u001b[32m\"b\"\u001b[39m, \u001b[32m\"c\"\u001b[39m, \u001b[32m\"d\"\u001b[39m, \u001b[32m\"e\"\u001b[39m)\r\n",
       "\u001b[36mres35_1\u001b[39m: (\u001b[32mcollection\u001b[39m.\u001b[32mimmutable\u001b[39m.\u001b[32mIndexedSeq\u001b[39m[\u001b[32mInt\u001b[39m], \u001b[32mcollection\u001b[39m.\u001b[32mimmutable\u001b[39m.\u001b[32mIndexedSeq\u001b[39m[\u001b[32mString\u001b[39m]) = (\u001b[33mVector\u001b[39m(\u001b[32m0\u001b[39m, \u001b[32m1\u001b[39m, \u001b[32m2\u001b[39m, \u001b[32m3\u001b[39m, \u001b[32m4\u001b[39m), \u001b[33mVector\u001b[39m(\u001b[32m\"a\"\u001b[39m, \u001b[32m\"b\"\u001b[39m, \u001b[32m\"c\"\u001b[39m, \u001b[32m\"d\"\u001b[39m, \u001b[32m\"e\"\u001b[39m))"
      ]
     },
     "execution_count": 36,
     "metadata": {},
     "output_type": "execute_result"
    }
   ],
   "source": [
    "val list = List(\"a\",\"b\",\"c\",\"d\",\"e\")\n",
    "list.indices.zip(list).unzip"
   ]
  },
  {
   "cell_type": "code",
   "execution_count": 37,
   "metadata": {},
   "outputs": [
    {
     "data": {
      "text/plain": [
       "\u001b[36mres36\u001b[39m: \u001b[32mString\u001b[39m = \u001b[32m\"321\"\u001b[39m"
      ]
     },
     "execution_count": 37,
     "metadata": {},
     "output_type": "execute_result"
    }
   ],
   "source": [
    "\"123\".toList.reverse.mkString\n"
   ]
  },
  {
   "cell_type": "code",
   "execution_count": 38,
   "metadata": {
    "cell_style": "center"
   },
   "outputs": [
    {
     "data": {
      "text/plain": [
       "\u001b[36mlist\u001b[39m: \u001b[32mList\u001b[39m[\u001b[32mInt\u001b[39m] = \u001b[33mList\u001b[39m(\u001b[32m1\u001b[39m, \u001b[32m-2\u001b[39m, \u001b[32m3\u001b[39m, \u001b[32m-4\u001b[39m, \u001b[32m5\u001b[39m, \u001b[32m-6\u001b[39m)\r\n",
       "\u001b[36mres37_1\u001b[39m: (\u001b[32mList\u001b[39m[\u001b[32mInt\u001b[39m], \u001b[32mList\u001b[39m[\u001b[32mInt\u001b[39m]) = (\u001b[33mList\u001b[39m(\u001b[32m1\u001b[39m, \u001b[32m3\u001b[39m, \u001b[32m5\u001b[39m), \u001b[33mList\u001b[39m(\u001b[32m-2\u001b[39m, \u001b[32m-4\u001b[39m, \u001b[32m-6\u001b[39m))\r\n",
       "\u001b[36mres37_2\u001b[39m: (\u001b[32mList\u001b[39m[\u001b[32mInt\u001b[39m], \u001b[32mList\u001b[39m[\u001b[32mInt\u001b[39m]) = (\u001b[33mList\u001b[39m(\u001b[32m1\u001b[39m), \u001b[33mList\u001b[39m(\u001b[32m-2\u001b[39m, \u001b[32m3\u001b[39m, \u001b[32m-4\u001b[39m, \u001b[32m5\u001b[39m, \u001b[32m-6\u001b[39m))\r\n",
       "\u001b[36mres37_3\u001b[39m: \u001b[32mInt\u001b[39m = \u001b[32m-3\u001b[39m\r\n",
       "\u001b[36mres37_4\u001b[39m: \u001b[32mInt\u001b[39m = \u001b[32m-720\u001b[39m\r\n",
       "defined \u001b[32mfunction\u001b[39m \u001b[36msumList\u001b[39m\r\n",
       "\u001b[36mres37_6\u001b[39m: \u001b[32mInt\u001b[39m = \u001b[32m-3\u001b[39m"
      ]
     },
     "execution_count": 38,
     "metadata": {},
     "output_type": "execute_result"
    }
   ],
   "source": [
    "val list = List(1,-2,3,-4,5,-6)\n",
    "list.partition(_>0)\n",
    "list.span(_>0)\n",
    "list.sum\n",
    "list.product\n",
    "\n",
    "def sumList(ls:List[Int]):Int = (0 /: ls)(_+_)\n",
    "sumList(list)"
   ]
  },
  {
   "cell_type": "code",
   "execution_count": 39,
   "metadata": {},
   "outputs": [
    {
     "data": {
      "text/plain": [
       "\u001b[36ms1\u001b[39m: \u001b[32mSet\u001b[39m[\u001b[32mInt\u001b[39m] = \u001b[33mSet\u001b[39m(\u001b[32m1\u001b[39m, \u001b[32m2\u001b[39m, \u001b[32m3\u001b[39m)\r\n",
       "\u001b[36ms2\u001b[39m: \u001b[32mSet\u001b[39m[\u001b[32mInt\u001b[39m] = \u001b[33mSet\u001b[39m(\u001b[32m2\u001b[39m, \u001b[32m3\u001b[39m, \u001b[32m4\u001b[39m)\r\n",
       "\u001b[36mres38_2\u001b[39m: \u001b[32mSet\u001b[39m[\u001b[32mInt\u001b[39m] = \u001b[33mSet\u001b[39m(\u001b[32m2\u001b[39m, \u001b[32m3\u001b[39m)\r\n",
       "\u001b[36mres38_3\u001b[39m: \u001b[32mSet\u001b[39m[\u001b[32mInt\u001b[39m] = \u001b[33mSet\u001b[39m(\u001b[32m2\u001b[39m, \u001b[32m3\u001b[39m)\r\n",
       "\u001b[36mres38_4\u001b[39m: \u001b[32mSet\u001b[39m[\u001b[32mInt\u001b[39m] = \u001b[33mSet\u001b[39m(\u001b[32m1\u001b[39m, \u001b[32m2\u001b[39m, \u001b[32m3\u001b[39m, \u001b[32m4\u001b[39m)\r\n",
       "\u001b[36mres38_5\u001b[39m: \u001b[32mSet\u001b[39m[\u001b[32mInt\u001b[39m] = \u001b[33mSet\u001b[39m(\u001b[32m1\u001b[39m, \u001b[32m2\u001b[39m, \u001b[32m3\u001b[39m, \u001b[32m4\u001b[39m)\r\n",
       "\u001b[36mres38_6\u001b[39m: \u001b[32mSet\u001b[39m[\u001b[32mInt\u001b[39m] = \u001b[33mSet\u001b[39m(\u001b[32m1\u001b[39m)\r\n",
       "\u001b[36mres38_7\u001b[39m: \u001b[32mSet\u001b[39m[\u001b[32mInt\u001b[39m] = \u001b[33mSet\u001b[39m(\u001b[32m1\u001b[39m)"
      ]
     },
     "execution_count": 39,
     "metadata": {},
     "output_type": "execute_result"
    }
   ],
   "source": [
    "val s1 = Set(1,2,3)\n",
    "val s2 = Set(2,3,4)\n",
    "s1 & s2 \n",
    "s1 intersect s2\n",
    "s1 | s2\n",
    "s1 union s2\n",
    "s1 &~ s2\n",
    "s1 diff s2 "
   ]
  }
 ],
 "metadata": {
  "celltoolbar": "Edit Metadata",
  "kernelspec": {
   "display_name": "Scala 2.11.11",
   "language": "scala",
   "name": "scala"
  },
  "language_info": {
   "codemirror_mode": "text/x-scala",
   "file_extension": ".scala",
   "mimetype": "text/x-scala",
   "name": "scala211",
   "nbconvert_exporter": "script",
   "pygments_lexer": "scala",
   "version": "2.11.11"
  },
  "toc": {
   "base_numbering": 1,
   "nav_menu": {},
   "number_sections": true,
   "sideBar": true,
   "skip_h1_title": false,
   "title_cell": "Table of Contents",
   "title_sidebar": "Contents",
   "toc_cell": false,
   "toc_position": {},
   "toc_section_display": true,
   "toc_window_display": false
  }
 },
 "nbformat": 4,
 "nbformat_minor": 2
}
